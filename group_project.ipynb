{
 "cells": [
  {
   "cell_type": "markdown",
   "id": "86a63d2b-ceb4-4923-9759-f228b3313c0b",
   "metadata": {},
   "source": [
    "# Consensus Income Classification Data Analysis"
   ]
  },
  {
   "cell_type": "markdown",
   "id": "2628dbe7-525d-4285-99b2-5252da8edee4",
   "metadata": {},
   "source": [
    "## Introduction"
   ]
  },
  {
   "cell_type": "markdown",
   "id": "7f2c32c7-a429-44f7-9a87-bdc1eb05c78b",
   "metadata": {},
   "source": [
    "Insert introduction here"
   ]
  },
  {
   "cell_type": "code",
   "execution_count": 1,
   "id": "63548a26-0995-4f0f-bea9-3db212a63cce",
   "metadata": {},
   "outputs": [
    {
     "name": "stderr",
     "output_type": "stream",
     "text": [
      "── \u001b[1mAttaching packages\u001b[22m ─────────────────────────────────────── tidyverse 1.3.1 ──\n",
      "\n",
      "\u001b[32m✔\u001b[39m \u001b[34mggplot2\u001b[39m 3.3.6     \u001b[32m✔\u001b[39m \u001b[34mpurrr  \u001b[39m 0.3.4\n",
      "\u001b[32m✔\u001b[39m \u001b[34mtibble \u001b[39m 3.1.7     \u001b[32m✔\u001b[39m \u001b[34mdplyr  \u001b[39m 1.0.9\n",
      "\u001b[32m✔\u001b[39m \u001b[34mtidyr  \u001b[39m 1.2.0     \u001b[32m✔\u001b[39m \u001b[34mstringr\u001b[39m 1.4.0\n",
      "\u001b[32m✔\u001b[39m \u001b[34mreadr  \u001b[39m 2.1.2     \u001b[32m✔\u001b[39m \u001b[34mforcats\u001b[39m 0.5.1\n",
      "\n",
      "── \u001b[1mConflicts\u001b[22m ────────────────────────────────────────── tidyverse_conflicts() ──\n",
      "\u001b[31m✖\u001b[39m \u001b[34mdplyr\u001b[39m::\u001b[32mfilter()\u001b[39m masks \u001b[34mstats\u001b[39m::filter()\n",
      "\u001b[31m✖\u001b[39m \u001b[34mdplyr\u001b[39m::\u001b[32mlag()\u001b[39m    masks \u001b[34mstats\u001b[39m::lag()\n",
      "\n",
      "── \u001b[1mAttaching packages\u001b[22m ────────────────────────────────────── tidymodels 1.0.0 ──\n",
      "\n",
      "\u001b[32m✔\u001b[39m \u001b[34mbroom       \u001b[39m 1.0.0     \u001b[32m✔\u001b[39m \u001b[34mrsample     \u001b[39m 1.0.0\n",
      "\u001b[32m✔\u001b[39m \u001b[34mdials       \u001b[39m 1.0.0     \u001b[32m✔\u001b[39m \u001b[34mtune        \u001b[39m 1.0.0\n",
      "\u001b[32m✔\u001b[39m \u001b[34minfer       \u001b[39m 1.0.2     \u001b[32m✔\u001b[39m \u001b[34mworkflows   \u001b[39m 1.0.0\n",
      "\u001b[32m✔\u001b[39m \u001b[34mmodeldata   \u001b[39m 1.0.0     \u001b[32m✔\u001b[39m \u001b[34mworkflowsets\u001b[39m 1.0.0\n",
      "\u001b[32m✔\u001b[39m \u001b[34mparsnip     \u001b[39m 1.0.0     \u001b[32m✔\u001b[39m \u001b[34myardstick   \u001b[39m 1.0.0\n",
      "\u001b[32m✔\u001b[39m \u001b[34mrecipes     \u001b[39m 1.0.1     \n",
      "\n",
      "── \u001b[1mConflicts\u001b[22m ───────────────────────────────────────── tidymodels_conflicts() ──\n",
      "\u001b[31m✖\u001b[39m \u001b[34mscales\u001b[39m::\u001b[32mdiscard()\u001b[39m masks \u001b[34mpurrr\u001b[39m::discard()\n",
      "\u001b[31m✖\u001b[39m \u001b[34mdplyr\u001b[39m::\u001b[32mfilter()\u001b[39m   masks \u001b[34mstats\u001b[39m::filter()\n",
      "\u001b[31m✖\u001b[39m \u001b[34mrecipes\u001b[39m::\u001b[32mfixed()\u001b[39m  masks \u001b[34mstringr\u001b[39m::fixed()\n",
      "\u001b[31m✖\u001b[39m \u001b[34mdplyr\u001b[39m::\u001b[32mlag()\u001b[39m      masks \u001b[34mstats\u001b[39m::lag()\n",
      "\u001b[31m✖\u001b[39m \u001b[34myardstick\u001b[39m::\u001b[32mspec()\u001b[39m masks \u001b[34mreadr\u001b[39m::spec()\n",
      "\u001b[31m✖\u001b[39m \u001b[34mrecipes\u001b[39m::\u001b[32mstep()\u001b[39m   masks \u001b[34mstats\u001b[39m::step()\n",
      "\u001b[34m•\u001b[39m Dig deeper into tidy modeling with R at \u001b[32mhttps://www.tmwr.org\u001b[39m\n",
      "\n"
     ]
    }
   ],
   "source": [
    "library(tidyverse)\n",
    "library(dplyr)\n",
    "library(repr)\n",
    "library(tidymodels)\n",
    "options(repr.matrix.max.rows = 6) #displays maximum of 6 rows of dataframe"
   ]
  },
  {
   "cell_type": "markdown",
   "id": "18152cfc-90b8-4a63-a585-a370234b8630",
   "metadata": {},
   "source": [
    "## Preliminary Exploratory Data Analysis"
   ]
  },
  {
   "cell_type": "code",
   "execution_count": 2,
   "id": "15c9b984-ead6-4a2c-83f4-4ba19657d9c5",
   "metadata": {},
   "outputs": [
    {
     "name": "stderr",
     "output_type": "stream",
     "text": [
      "\u001b[1mRows: \u001b[22m\u001b[34m32561\u001b[39m \u001b[1mColumns: \u001b[22m\u001b[34m15\u001b[39m\n",
      "\u001b[36m──\u001b[39m \u001b[1mColumn specification\u001b[22m \u001b[36m────────────────────────────────────────────────────────\u001b[39m\n",
      "\u001b[1mDelimiter:\u001b[22m \",\"\n",
      "\u001b[31mchr\u001b[39m (9): X2, X4, X6, X7, X8, X9, X10, X14, X15\n",
      "\u001b[32mdbl\u001b[39m (6): X1, X3, X5, X11, X12, X13\n",
      "\n",
      "\u001b[36mℹ\u001b[39m Use `spec()` to retrieve the full column specification for this data.\n",
      "\u001b[36mℹ\u001b[39m Specify the column types or set `show_col_types = FALSE` to quiet this message.\n"
     ]
    },
    {
     "data": {
      "text/html": [
       "<table class=\"dataframe\">\n",
       "<caption>A tibble: 32561 × 4</caption>\n",
       "<thead>\n",
       "\t<tr><th scope=col>age</th><th scope=col>education_num</th><th scope=col>hours_per_week</th><th scope=col>income</th></tr>\n",
       "\t<tr><th scope=col>&lt;dbl&gt;</th><th scope=col>&lt;dbl&gt;</th><th scope=col>&lt;dbl&gt;</th><th scope=col>&lt;fct&gt;</th></tr>\n",
       "</thead>\n",
       "<tbody>\n",
       "\t<tr><td>39</td><td>13</td><td>40</td><td>&lt;=50K</td></tr>\n",
       "\t<tr><td>50</td><td>13</td><td>13</td><td>&lt;=50K</td></tr>\n",
       "\t<tr><td>38</td><td> 9</td><td>40</td><td>&lt;=50K</td></tr>\n",
       "\t<tr><td>⋮</td><td>⋮</td><td>⋮</td><td>⋮</td></tr>\n",
       "\t<tr><td>58</td><td>9</td><td>40</td><td>&lt;=50K</td></tr>\n",
       "\t<tr><td>22</td><td>9</td><td>20</td><td>&lt;=50K</td></tr>\n",
       "\t<tr><td>52</td><td>9</td><td>40</td><td>&gt;50K </td></tr>\n",
       "</tbody>\n",
       "</table>\n"
      ],
      "text/latex": [
       "A tibble: 32561 × 4\n",
       "\\begin{tabular}{llll}\n",
       " age & education\\_num & hours\\_per\\_week & income\\\\\n",
       " <dbl> & <dbl> & <dbl> & <fct>\\\\\n",
       "\\hline\n",
       "\t 39 & 13 & 40 & <=50K\\\\\n",
       "\t 50 & 13 & 13 & <=50K\\\\\n",
       "\t 38 &  9 & 40 & <=50K\\\\\n",
       "\t ⋮ & ⋮ & ⋮ & ⋮\\\\\n",
       "\t 58 & 9 & 40 & <=50K\\\\\n",
       "\t 22 & 9 & 20 & <=50K\\\\\n",
       "\t 52 & 9 & 40 & >50K \\\\\n",
       "\\end{tabular}\n"
      ],
      "text/markdown": [
       "\n",
       "A tibble: 32561 × 4\n",
       "\n",
       "| age &lt;dbl&gt; | education_num &lt;dbl&gt; | hours_per_week &lt;dbl&gt; | income &lt;fct&gt; |\n",
       "|---|---|---|---|\n",
       "| 39 | 13 | 40 | &lt;=50K |\n",
       "| 50 | 13 | 13 | &lt;=50K |\n",
       "| 38 |  9 | 40 | &lt;=50K |\n",
       "| ⋮ | ⋮ | ⋮ | ⋮ |\n",
       "| 58 | 9 | 40 | &lt;=50K |\n",
       "| 22 | 9 | 20 | &lt;=50K |\n",
       "| 52 | 9 | 40 | &gt;50K  |\n",
       "\n"
      ],
      "text/plain": [
       "      age education_num hours_per_week income\n",
       "1     39  13            40             <=50K \n",
       "2     50  13            13             <=50K \n",
       "3     38   9            40             <=50K \n",
       "⋮     ⋮   ⋮             ⋮              ⋮     \n",
       "32559 58  9             40             <=50K \n",
       "32560 22  9             20             <=50K \n",
       "32561 52  9             40             >50K  "
      ]
     },
     "metadata": {},
     "output_type": "display_data"
    },
    {
     "data": {
      "text/html": [
       "<table class=\"dataframe\">\n",
       "<caption>A tibble: 2 × 2</caption>\n",
       "<thead>\n",
       "\t<tr><th scope=col>income</th><th scope=col>n</th></tr>\n",
       "\t<tr><th scope=col>&lt;fct&gt;</th><th scope=col>&lt;int&gt;</th></tr>\n",
       "</thead>\n",
       "<tbody>\n",
       "\t<tr><td>&lt;=50K</td><td>18540</td></tr>\n",
       "\t<tr><td>&gt;50K </td><td> 5880</td></tr>\n",
       "</tbody>\n",
       "</table>\n"
      ],
      "text/latex": [
       "A tibble: 2 × 2\n",
       "\\begin{tabular}{ll}\n",
       " income & n\\\\\n",
       " <fct> & <int>\\\\\n",
       "\\hline\n",
       "\t <=50K & 18540\\\\\n",
       "\t >50K  &  5880\\\\\n",
       "\\end{tabular}\n"
      ],
      "text/markdown": [
       "\n",
       "A tibble: 2 × 2\n",
       "\n",
       "| income &lt;fct&gt; | n &lt;int&gt; |\n",
       "|---|---|\n",
       "| &lt;=50K | 18540 |\n",
       "| &gt;50K  |  5880 |\n",
       "\n"
      ],
      "text/plain": [
       "  income n    \n",
       "1 <=50K  18540\n",
       "2 >50K    5880"
      ]
     },
     "metadata": {},
     "output_type": "display_data"
    },
    {
     "data": {
      "text/html": [
       "<table class=\"dataframe\">\n",
       "<caption>A tibble: 1 × 3</caption>\n",
       "<thead>\n",
       "\t<tr><th scope=col>age</th><th scope=col>education_num</th><th scope=col>hours_per_week</th></tr>\n",
       "\t<tr><th scope=col>&lt;dbl&gt;</th><th scope=col>&lt;dbl&gt;</th><th scope=col>&lt;dbl&gt;</th></tr>\n",
       "</thead>\n",
       "<tbody>\n",
       "\t<tr><td>38.57719</td><td>10.07707</td><td>40.44496</td></tr>\n",
       "</tbody>\n",
       "</table>\n"
      ],
      "text/latex": [
       "A tibble: 1 × 3\n",
       "\\begin{tabular}{lll}\n",
       " age & education\\_num & hours\\_per\\_week\\\\\n",
       " <dbl> & <dbl> & <dbl>\\\\\n",
       "\\hline\n",
       "\t 38.57719 & 10.07707 & 40.44496\\\\\n",
       "\\end{tabular}\n"
      ],
      "text/markdown": [
       "\n",
       "A tibble: 1 × 3\n",
       "\n",
       "| age &lt;dbl&gt; | education_num &lt;dbl&gt; | hours_per_week &lt;dbl&gt; |\n",
       "|---|---|---|\n",
       "| 38.57719 | 10.07707 | 40.44496 |\n",
       "\n"
      ],
      "text/plain": [
       "  age      education_num hours_per_week\n",
       "1 38.57719 10.07707      40.44496      "
      ]
     },
     "metadata": {},
     "output_type": "display_data"
    }
   ],
   "source": [
    "options(repr.plot.width = 8, repr.plot.height = 7)\n",
    "set.seed(2022)\n",
    "consensus_data <- read_csv(\"https://archive.ics.uci.edu/ml/machine-learning-databases/adult/adult.data\", col_names = FALSE)\n",
    "colnames(consensus_data) <- c(\"age\", \"workclass\",\"fnlwgt\",\"education\",\"education_num\",\"marital_status\",\"occupation\",\"relationship\",\"race\",\"sex\",\"capital_gain\",\"capital_loss\",\"hours_per_week\",\"native_country\",\"income\")\n",
    "consensus_data <- mutate(consensus_data, income = as_factor(income))\n",
    "#consensus_data\n",
    "\n",
    "consensus_subset <- consensus_data |>\n",
    "                     select(age, education_num, hours_per_week, income)\n",
    "consensus_subset\n",
    "\n",
    "#Splitting data into 75% training and 25% testing sets\n",
    "consensus_split <- initial_split(consensus_subset, prop = 3/4, strata = income)\n",
    "consensus_training <- training(consensus_split) \n",
    "consensus_testing <- testing(consensus_split)\n",
    "#consensus_training\n",
    "\n",
    "\n",
    "\n",
    "# Summarizing number of observations per classification category\n",
    "counts <- group_by(consensus_training, income) |>\n",
    "          summarize(n = n())\n",
    "counts\n",
    "\n",
    "#Means of the predictor variables that will be used within the analysis\n",
    "predictor_averages <- consensus_training |>\n",
    "                      select(-income)|>\n",
    "                      summarize(across(age:hours_per_week, mean, na.rm = TRUE))\n",
    "predictor_averages\n"
   ]
  },
  {
   "cell_type": "markdown",
   "id": "059b7b30-100f-4f28-b72b-504311c84d61",
   "metadata": {},
   "source": [
    "## Methods"
   ]
  },
  {
   "cell_type": "markdown",
   "id": "842e1f78-d6d5-4c64-95b6-1a45a13a7beb",
   "metadata": {},
   "source": [
    "Insert methods here"
   ]
  },
  {
   "cell_type": "markdown",
   "id": "5a8327bc-7c6b-45ff-8bfd-4939b78a182f",
   "metadata": {},
   "source": [
    "## Expected outcomes and significance"
   ]
  },
  {
   "cell_type": "markdown",
   "id": "fc509d74-98ff-449b-afe9-39cf4ffb412f",
   "metadata": {},
   "source": [
    "Insert expected outcomes and significance here"
   ]
  },
  {
   "cell_type": "code",
   "execution_count": null,
   "id": "e8bbc567-bf22-4a29-a3d4-5ae98a30b8c6",
   "metadata": {},
   "outputs": [],
   "source": []
  }
 ],
 "metadata": {
  "kernelspec": {
   "display_name": "R",
   "language": "R",
   "name": "ir"
  },
  "language_info": {
   "codemirror_mode": "r",
   "file_extension": ".r",
   "mimetype": "text/x-r-source",
   "name": "R",
   "pygments_lexer": "r",
   "version": "4.1.3"
  }
 },
 "nbformat": 4,
 "nbformat_minor": 5
}
