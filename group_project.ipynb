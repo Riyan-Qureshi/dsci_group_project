{
 "cells": [
  {
   "cell_type": "code",
   "execution_count": 21,
   "id": "63548a26-0995-4f0f-bea9-3db212a63cce",
   "metadata": {},
   "outputs": [],
   "source": [
    "library(tidyverse)\n",
    "library(dplyr)"
   ]
  },
  {
   "cell_type": "code",
   "execution_count": 24,
   "id": "15c9b984-ead6-4a2c-83f4-4ba19657d9c5",
   "metadata": {},
   "outputs": [
    {
     "name": "stderr",
     "output_type": "stream",
     "text": [
      "\u001b[1mRows: \u001b[22m\u001b[34m32561\u001b[39m \u001b[1mColumns: \u001b[22m\u001b[34m15\u001b[39m\n",
      "\u001b[36m──\u001b[39m \u001b[1mColumn specification\u001b[22m \u001b[36m────────────────────────────────────────────────────────\u001b[39m\n",
      "\u001b[1mDelimiter:\u001b[22m \",\"\n",
      "\u001b[31mchr\u001b[39m (9): X2, X4, X6, X7, X8, X9, X10, X14, X15\n",
      "\u001b[32mdbl\u001b[39m (6): X1, X3, X5, X11, X12, X13\n",
      "\n",
      "\u001b[36mℹ\u001b[39m Use `spec()` to retrieve the full column specification for this data.\n",
      "\u001b[36mℹ\u001b[39m Specify the column types or set `show_col_types = FALSE` to quiet this message.\n"
     ]
    }
   ],
   "source": [
    "consensus_data <- read_csv(\"https://archive.ics.uci.edu/ml/machine-learning-databases/adult/adult.data\", col_names = FALSE)\n",
    "colnames(consensus_data) <- c(\"age\", \"workclass\",\"fnlwgt\",\"education\",\"education-num\",\"marital-status\",\"occupation\",\"relationship\",\"race\",\"sex\",\"capital-gain\",\"capital-loss\",\"hours-per-week\",\"native-country\",\"income\")\n",
    "consensus_data <- mutate(consensus_data, income = as_factor(income))\n",
    "#consensus_data"
   ]
  },
  {
   "cell_type": "code",
   "execution_count": null,
   "id": "05442c86-050f-457b-a323-126972e9db30",
   "metadata": {},
   "outputs": [],
   "source": []
  }
 ],
 "metadata": {
  "kernelspec": {
   "display_name": "R",
   "language": "R",
   "name": "ir"
  },
  "language_info": {
   "codemirror_mode": "r",
   "file_extension": ".r",
   "mimetype": "text/x-r-source",
   "name": "R",
   "pygments_lexer": "r",
   "version": "4.1.3"
  }
 },
 "nbformat": 4,
 "nbformat_minor": 5
}
