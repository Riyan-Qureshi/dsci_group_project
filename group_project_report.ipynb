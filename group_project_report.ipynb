{
 "cells": [
  {
   "cell_type": "markdown",
   "id": "25851084-6e4e-42fc-bb18-91334729664b",
   "metadata": {},
   "source": [
    "# Consensus Income Classification Data Analysis"
   ]
  },
  {
   "cell_type": "markdown",
   "id": "085cffff-d359-4acf-8865-98842b3774f1",
   "metadata": {},
   "source": [
    "## Introduction"
   ]
  },
  {
   "cell_type": "markdown",
   "id": "88097d10-43f8-4cd8-a53d-8f462a417627",
   "metadata": {},
   "source": [
    "In the workforce, many factors can influence an individual’s salary. These can include (but are not limited to): level of education, occupation, age, sex, and race. Data from the U.S. Bureau of Labor Statistics found that men working in management earned more than their female counterparts, while people working in the service industry generally made the smallest salaries. In our project, we will design a classification model that will predict if an individual will make more than or less than $50,000, based on specific predictors. \n",
    "\n",
    "Would an 18 year old high school graduate working 40 hours per week have made more or less than $50,000 annually in 1994?\n",
    "\n",
    "This dataset came from the UCI Machine Learning Repository and summarizes U.S. census data from 1994. It contains variables identifying age, work class, education, marital status, occupation, relationship, race, sex, capital gain and loss, hours per week, and native country. The variables influence whether an individual makes less than or more than \\\\$50,000. We will select specific variables to predict an individual’s categorical salary (less than or greater than \\\\$50,000)."
   ]
  },
  {
   "cell_type": "code",
   "execution_count": 1,
   "id": "2cf6749f-991d-4472-a502-10022007b9c2",
   "metadata": {},
   "outputs": [
    {
     "name": "stderr",
     "output_type": "stream",
     "text": [
      "── \u001b[1mAttaching packages\u001b[22m ─────────────────────────────────────── tidyverse 1.3.1 ──\n",
      "\n",
      "\u001b[32m✔\u001b[39m \u001b[34mggplot2\u001b[39m 3.3.6     \u001b[32m✔\u001b[39m \u001b[34mpurrr  \u001b[39m 0.3.4\n",
      "\u001b[32m✔\u001b[39m \u001b[34mtibble \u001b[39m 3.1.7     \u001b[32m✔\u001b[39m \u001b[34mdplyr  \u001b[39m 1.0.9\n",
      "\u001b[32m✔\u001b[39m \u001b[34mtidyr  \u001b[39m 1.2.0     \u001b[32m✔\u001b[39m \u001b[34mstringr\u001b[39m 1.4.0\n",
      "\u001b[32m✔\u001b[39m \u001b[34mreadr  \u001b[39m 2.1.2     \u001b[32m✔\u001b[39m \u001b[34mforcats\u001b[39m 0.5.1\n",
      "\n",
      "── \u001b[1mConflicts\u001b[22m ────────────────────────────────────────── tidyverse_conflicts() ──\n",
      "\u001b[31m✖\u001b[39m \u001b[34mdplyr\u001b[39m::\u001b[32mfilter()\u001b[39m masks \u001b[34mstats\u001b[39m::filter()\n",
      "\u001b[31m✖\u001b[39m \u001b[34mdplyr\u001b[39m::\u001b[32mlag()\u001b[39m    masks \u001b[34mstats\u001b[39m::lag()\n",
      "\n",
      "── \u001b[1mAttaching packages\u001b[22m ────────────────────────────────────── tidymodels 1.0.0 ──\n",
      "\n",
      "\u001b[32m✔\u001b[39m \u001b[34mbroom       \u001b[39m 1.0.0     \u001b[32m✔\u001b[39m \u001b[34mrsample     \u001b[39m 1.0.0\n",
      "\u001b[32m✔\u001b[39m \u001b[34mdials       \u001b[39m 1.0.0     \u001b[32m✔\u001b[39m \u001b[34mtune        \u001b[39m 1.0.0\n",
      "\u001b[32m✔\u001b[39m \u001b[34minfer       \u001b[39m 1.0.2     \u001b[32m✔\u001b[39m \u001b[34mworkflows   \u001b[39m 1.0.0\n",
      "\u001b[32m✔\u001b[39m \u001b[34mmodeldata   \u001b[39m 1.0.0     \u001b[32m✔\u001b[39m \u001b[34mworkflowsets\u001b[39m 1.0.0\n",
      "\u001b[32m✔\u001b[39m \u001b[34mparsnip     \u001b[39m 1.0.0     \u001b[32m✔\u001b[39m \u001b[34myardstick   \u001b[39m 1.0.0\n",
      "\u001b[32m✔\u001b[39m \u001b[34mrecipes     \u001b[39m 1.0.1     \n",
      "\n",
      "── \u001b[1mConflicts\u001b[22m ───────────────────────────────────────── tidymodels_conflicts() ──\n",
      "\u001b[31m✖\u001b[39m \u001b[34mscales\u001b[39m::\u001b[32mdiscard()\u001b[39m masks \u001b[34mpurrr\u001b[39m::discard()\n",
      "\u001b[31m✖\u001b[39m \u001b[34mdplyr\u001b[39m::\u001b[32mfilter()\u001b[39m   masks \u001b[34mstats\u001b[39m::filter()\n",
      "\u001b[31m✖\u001b[39m \u001b[34mrecipes\u001b[39m::\u001b[32mfixed()\u001b[39m  masks \u001b[34mstringr\u001b[39m::fixed()\n",
      "\u001b[31m✖\u001b[39m \u001b[34mdplyr\u001b[39m::\u001b[32mlag()\u001b[39m      masks \u001b[34mstats\u001b[39m::lag()\n",
      "\u001b[31m✖\u001b[39m \u001b[34myardstick\u001b[39m::\u001b[32mspec()\u001b[39m masks \u001b[34mreadr\u001b[39m::spec()\n",
      "\u001b[31m✖\u001b[39m \u001b[34mrecipes\u001b[39m::\u001b[32mstep()\u001b[39m   masks \u001b[34mstats\u001b[39m::step()\n",
      "\u001b[34m•\u001b[39m Dig deeper into tidy modeling with R at \u001b[32mhttps://www.tmwr.org\u001b[39m\n",
      "\n",
      "also installing the dependencies ‘RANN’, ‘ROSE’\n",
      "\n",
      "\n",
      "Updating HTML index of packages in '.Library'\n",
      "\n",
      "Making 'packages.html' ...\n",
      " done\n",
      "\n"
     ]
    }
   ],
   "source": [
    "library(tidyverse)\n",
    "library(dplyr)\n",
    "library(repr)\n",
    "library(tidymodels)\n",
    "library(ggplot2)\n",
    "install.packages(\"themis\")\n",
    "library(themis)\n",
    "options(repr.matrix.max.rows = 6) #displays maximum of 6 rows of dataframe"
   ]
  },
  {
   "cell_type": "code",
   "execution_count": 2,
   "id": "49c3e3ff-356f-4ec2-922b-e705d8962ba7",
   "metadata": {},
   "outputs": [
    {
     "name": "stderr",
     "output_type": "stream",
     "text": [
      "\u001b[1mRows: \u001b[22m\u001b[34m32561\u001b[39m \u001b[1mColumns: \u001b[22m\u001b[34m15\u001b[39m\n",
      "\u001b[36m──\u001b[39m \u001b[1mColumn specification\u001b[22m \u001b[36m────────────────────────────────────────────────────────\u001b[39m\n",
      "\u001b[1mDelimiter:\u001b[22m \",\"\n",
      "\u001b[31mchr\u001b[39m (9): X2, X4, X6, X7, X8, X9, X10, X14, X15\n",
      "\u001b[32mdbl\u001b[39m (6): X1, X3, X5, X11, X12, X13\n",
      "\n",
      "\u001b[36mℹ\u001b[39m Use `spec()` to retrieve the full column specification for this data.\n",
      "\u001b[36mℹ\u001b[39m Specify the column types or set `show_col_types = FALSE` to quiet this message.\n"
     ]
    },
    {
     "data": {
      "text/html": [
       "<table class=\"dataframe\">\n",
       "<caption>A tibble: 32561 × 4</caption>\n",
       "<thead>\n",
       "\t<tr><th scope=col>age</th><th scope=col>education_num</th><th scope=col>hours_per_week</th><th scope=col>income</th></tr>\n",
       "\t<tr><th scope=col>&lt;dbl&gt;</th><th scope=col>&lt;dbl&gt;</th><th scope=col>&lt;dbl&gt;</th><th scope=col>&lt;fct&gt;</th></tr>\n",
       "</thead>\n",
       "<tbody>\n",
       "\t<tr><td>39</td><td>13</td><td>40</td><td>&lt;=50K</td></tr>\n",
       "\t<tr><td>50</td><td>13</td><td>13</td><td>&lt;=50K</td></tr>\n",
       "\t<tr><td>38</td><td> 9</td><td>40</td><td>&lt;=50K</td></tr>\n",
       "\t<tr><td>⋮</td><td>⋮</td><td>⋮</td><td>⋮</td></tr>\n",
       "\t<tr><td>58</td><td>9</td><td>40</td><td>&lt;=50K</td></tr>\n",
       "\t<tr><td>22</td><td>9</td><td>20</td><td>&lt;=50K</td></tr>\n",
       "\t<tr><td>52</td><td>9</td><td>40</td><td>&gt;50K </td></tr>\n",
       "</tbody>\n",
       "</table>\n"
      ],
      "text/latex": [
       "A tibble: 32561 × 4\n",
       "\\begin{tabular}{llll}\n",
       " age & education\\_num & hours\\_per\\_week & income\\\\\n",
       " <dbl> & <dbl> & <dbl> & <fct>\\\\\n",
       "\\hline\n",
       "\t 39 & 13 & 40 & <=50K\\\\\n",
       "\t 50 & 13 & 13 & <=50K\\\\\n",
       "\t 38 &  9 & 40 & <=50K\\\\\n",
       "\t ⋮ & ⋮ & ⋮ & ⋮\\\\\n",
       "\t 58 & 9 & 40 & <=50K\\\\\n",
       "\t 22 & 9 & 20 & <=50K\\\\\n",
       "\t 52 & 9 & 40 & >50K \\\\\n",
       "\\end{tabular}\n"
      ],
      "text/markdown": [
       "\n",
       "A tibble: 32561 × 4\n",
       "\n",
       "| age &lt;dbl&gt; | education_num &lt;dbl&gt; | hours_per_week &lt;dbl&gt; | income &lt;fct&gt; |\n",
       "|---|---|---|---|\n",
       "| 39 | 13 | 40 | &lt;=50K |\n",
       "| 50 | 13 | 13 | &lt;=50K |\n",
       "| 38 |  9 | 40 | &lt;=50K |\n",
       "| ⋮ | ⋮ | ⋮ | ⋮ |\n",
       "| 58 | 9 | 40 | &lt;=50K |\n",
       "| 22 | 9 | 20 | &lt;=50K |\n",
       "| 52 | 9 | 40 | &gt;50K  |\n",
       "\n"
      ],
      "text/plain": [
       "      age education_num hours_per_week income\n",
       "1     39  13            40             <=50K \n",
       "2     50  13            13             <=50K \n",
       "3     38   9            40             <=50K \n",
       "⋮     ⋮   ⋮             ⋮              ⋮     \n",
       "32559 58  9             40             <=50K \n",
       "32560 22  9             20             <=50K \n",
       "32561 52  9             40             >50K  "
      ]
     },
     "metadata": {},
     "output_type": "display_data"
    }
   ],
   "source": [
    "options(repr.plot.width = 8, repr.plot.height = 7)\n",
    "set.seed(2022)\n",
    "consensus_data <- read_csv(\"https://archive.ics.uci.edu/ml/machine-learning-databases/adult/adult.data\", col_names = FALSE)\n",
    "colnames(consensus_data) <- c(\"age\", \"workclass\",\"fnlwgt\",\"education\",\"education_num\",\"marital_status\",\"occupation\",\"relationship\",\"race\",\"sex\",\"capital_gain\",\"capital_loss\",\"hours_per_week\",\"native_country\",\"income\")\n",
    "consensus_data <- mutate(consensus_data, income = as_factor(income))\n",
    "\n",
    "#consensus_data\n",
    "consensus_subset <- consensus_data |>\n",
    "                     select(age, education_num, hours_per_week, income)\n",
    "consensus_subset\n"
   ]
  },
  {
   "cell_type": "code",
   "execution_count": 3,
   "id": "a29b06f0-d7ae-4e35-ace7-3626088b6d6d",
   "metadata": {},
   "outputs": [],
   "source": [
    "#Splitting data into 75% training and 25% testing sets\n",
    "consensus_split <- initial_split(consensus_subset, prop = 3/4, strata = income)\n",
    "consensus_training <- training(consensus_split) \n",
    "consensus_testing <- testing(consensus_split)\n",
    "#consensus_training"
   ]
  },
  {
   "cell_type": "code",
   "execution_count": 4,
   "id": "bd4d9820-1d2f-4525-b795-b3febb73d292",
   "metadata": {},
   "outputs": [
    {
     "data": {
      "text/html": [
       "<table class=\"dataframe\">\n",
       "<caption>A tibble: 2 × 2</caption>\n",
       "<thead>\n",
       "\t<tr><th scope=col>income</th><th scope=col>n</th></tr>\n",
       "\t<tr><th scope=col>&lt;fct&gt;</th><th scope=col>&lt;int&gt;</th></tr>\n",
       "</thead>\n",
       "<tbody>\n",
       "\t<tr><td>&lt;=50K</td><td>18540</td></tr>\n",
       "\t<tr><td>&gt;50K </td><td> 5880</td></tr>\n",
       "</tbody>\n",
       "</table>\n"
      ],
      "text/latex": [
       "A tibble: 2 × 2\n",
       "\\begin{tabular}{ll}\n",
       " income & n\\\\\n",
       " <fct> & <int>\\\\\n",
       "\\hline\n",
       "\t <=50K & 18540\\\\\n",
       "\t >50K  &  5880\\\\\n",
       "\\end{tabular}\n"
      ],
      "text/markdown": [
       "\n",
       "A tibble: 2 × 2\n",
       "\n",
       "| income &lt;fct&gt; | n &lt;int&gt; |\n",
       "|---|---|\n",
       "| &lt;=50K | 18540 |\n",
       "| &gt;50K  |  5880 |\n",
       "\n"
      ],
      "text/plain": [
       "  income n    \n",
       "1 <=50K  18540\n",
       "2 >50K    5880"
      ]
     },
     "metadata": {},
     "output_type": "display_data"
    }
   ],
   "source": [
    "# Summarizing number of observations per classification category\n",
    "counts <- group_by(consensus_training, income) |>\n",
    "          summarize(n = n())\n",
    "counts"
   ]
  },
  {
   "cell_type": "code",
   "execution_count": 5,
   "id": "8a135af7-c9cc-47b1-a05d-09fdaa2cdb9f",
   "metadata": {},
   "outputs": [
    {
     "data": {
      "text/html": [
       "<table class=\"dataframe\">\n",
       "<caption>A tibble: 1 × 3</caption>\n",
       "<thead>\n",
       "\t<tr><th scope=col>age</th><th scope=col>education_num</th><th scope=col>hours_per_week</th></tr>\n",
       "\t<tr><th scope=col>&lt;dbl&gt;</th><th scope=col>&lt;dbl&gt;</th><th scope=col>&lt;dbl&gt;</th></tr>\n",
       "</thead>\n",
       "<tbody>\n",
       "\t<tr><td>38.57719</td><td>10.07707</td><td>40.44496</td></tr>\n",
       "</tbody>\n",
       "</table>\n"
      ],
      "text/latex": [
       "A tibble: 1 × 3\n",
       "\\begin{tabular}{lll}\n",
       " age & education\\_num & hours\\_per\\_week\\\\\n",
       " <dbl> & <dbl> & <dbl>\\\\\n",
       "\\hline\n",
       "\t 38.57719 & 10.07707 & 40.44496\\\\\n",
       "\\end{tabular}\n"
      ],
      "text/markdown": [
       "\n",
       "A tibble: 1 × 3\n",
       "\n",
       "| age &lt;dbl&gt; | education_num &lt;dbl&gt; | hours_per_week &lt;dbl&gt; |\n",
       "|---|---|---|\n",
       "| 38.57719 | 10.07707 | 40.44496 |\n",
       "\n"
      ],
      "text/plain": [
       "  age      education_num hours_per_week\n",
       "1 38.57719 10.07707      40.44496      "
      ]
     },
     "metadata": {},
     "output_type": "display_data"
    }
   ],
   "source": [
    "#Means of the predictor variables that will be used within the analysis\n",
    "predictor_averages <- consensus_training |>\n",
    "                      select(-income)|>\n",
    "                      summarize(across(age:hours_per_week, mean, na.rm = TRUE))\n",
    "predictor_averages"
   ]
  },
  {
   "cell_type": "markdown",
   "id": "6c7736f9-5fba-4298-a4cd-790cc531d063",
   "metadata": {},
   "source": [
    "## Methods"
   ]
  },
  {
   "cell_type": "code",
   "execution_count": 6,
   "id": "5d2e6c5e-5d20-4608-b075-ac68dd062cdf",
   "metadata": {},
   "outputs": [
    {
     "data": {
      "text/plain": [
       "Recipe\n",
       "\n",
       "Inputs:\n",
       "\n",
       "      role #variables\n",
       "   outcome          1\n",
       " predictor          3\n",
       "\n",
       "Training data contained 24420 data points and no missing data.\n",
       "\n",
       "Operations:\n",
       "\n",
       "Scaling for age, education_num, hours_per_week [trained]\n",
       "Centering for age, education_num, hours_per_week [trained]"
      ]
     },
     "metadata": {},
     "output_type": "display_data"
    }
   ],
   "source": [
    "#Scaling predictors\n",
    "income_recipe <- recipe(income ~ ., data = consensus_training) |>\n",
    "            step_scale(all_predictors()) |>\n",
    "            step_center(all_predictors()) |>\n",
    "            #step_upsample(income, over_ratio =1, skip = FALSE) |>\n",
    "            prep()\n",
    "income_recipe"
   ]
  },
  {
   "cell_type": "code",
   "execution_count": 7,
   "id": "0ae89231-8ccb-4ffb-8d3c-3541026e5055",
   "metadata": {},
   "outputs": [
    {
     "data": {
      "text/html": [
       "<table class=\"dataframe\">\n",
       "<caption>A tibble: 32561 × 4</caption>\n",
       "<thead>\n",
       "\t<tr><th scope=col>age</th><th scope=col>education_num</th><th scope=col>hours_per_week</th><th scope=col>income</th></tr>\n",
       "\t<tr><th scope=col>&lt;dbl&gt;</th><th scope=col>&lt;dbl&gt;</th><th scope=col>&lt;dbl&gt;</th><th scope=col>&lt;fct&gt;</th></tr>\n",
       "</thead>\n",
       "<tbody>\n",
       "\t<tr><td> 0.03092662</td><td> 1.1368347</td><td>-0.03616749</td><td>&lt;=50K</td></tr>\n",
       "\t<tr><td> 0.83552802</td><td> 1.1368347</td><td>-2.23078144</td><td>&lt;=50K</td></tr>\n",
       "\t<tr><td>-0.04221896</td><td>-0.4189109</td><td>-0.03616749</td><td>&lt;=50K</td></tr>\n",
       "\t<tr><td>⋮</td><td>⋮</td><td>⋮</td><td>⋮</td></tr>\n",
       "\t<tr><td> 1.4206927</td><td>-0.4189109</td><td>-0.03616749</td><td>&lt;=50K</td></tr>\n",
       "\t<tr><td>-1.2125483</td><td>-0.4189109</td><td>-1.66180745</td><td>&lt;=50K</td></tr>\n",
       "\t<tr><td> 0.9818192</td><td>-0.4189109</td><td>-0.03616749</td><td>&gt;50K </td></tr>\n",
       "</tbody>\n",
       "</table>\n"
      ],
      "text/latex": [
       "A tibble: 32561 × 4\n",
       "\\begin{tabular}{llll}\n",
       " age & education\\_num & hours\\_per\\_week & income\\\\\n",
       " <dbl> & <dbl> & <dbl> & <fct>\\\\\n",
       "\\hline\n",
       "\t  0.03092662 &  1.1368347 & -0.03616749 & <=50K\\\\\n",
       "\t  0.83552802 &  1.1368347 & -2.23078144 & <=50K\\\\\n",
       "\t -0.04221896 & -0.4189109 & -0.03616749 & <=50K\\\\\n",
       "\t ⋮ & ⋮ & ⋮ & ⋮\\\\\n",
       "\t  1.4206927 & -0.4189109 & -0.03616749 & <=50K\\\\\n",
       "\t -1.2125483 & -0.4189109 & -1.66180745 & <=50K\\\\\n",
       "\t  0.9818192 & -0.4189109 & -0.03616749 & >50K \\\\\n",
       "\\end{tabular}\n"
      ],
      "text/markdown": [
       "\n",
       "A tibble: 32561 × 4\n",
       "\n",
       "| age &lt;dbl&gt; | education_num &lt;dbl&gt; | hours_per_week &lt;dbl&gt; | income &lt;fct&gt; |\n",
       "|---|---|---|---|\n",
       "|  0.03092662 |  1.1368347 | -0.03616749 | &lt;=50K |\n",
       "|  0.83552802 |  1.1368347 | -2.23078144 | &lt;=50K |\n",
       "| -0.04221896 | -0.4189109 | -0.03616749 | &lt;=50K |\n",
       "| ⋮ | ⋮ | ⋮ | ⋮ |\n",
       "|  1.4206927 | -0.4189109 | -0.03616749 | &lt;=50K |\n",
       "| -1.2125483 | -0.4189109 | -1.66180745 | &lt;=50K |\n",
       "|  0.9818192 | -0.4189109 | -0.03616749 | &gt;50K  |\n",
       "\n"
      ],
      "text/plain": [
       "      age         education_num hours_per_week income\n",
       "1      0.03092662  1.1368347    -0.03616749    <=50K \n",
       "2      0.83552802  1.1368347    -2.23078144    <=50K \n",
       "3     -0.04221896 -0.4189109    -0.03616749    <=50K \n",
       "⋮     ⋮           ⋮             ⋮              ⋮     \n",
       "32559  1.4206927  -0.4189109    -0.03616749    <=50K \n",
       "32560 -1.2125483  -0.4189109    -1.66180745    <=50K \n",
       "32561  0.9818192  -0.4189109    -0.03616749    >50K  "
      ]
     },
     "metadata": {},
     "output_type": "display_data"
    }
   ],
   "source": [
    "scaled_income <- bake(income_recipe, consensus_subset)\n",
    "scaled_income"
   ]
  },
  {
   "cell_type": "markdown",
   "id": "3851df52-f51c-42c5-a05b-cd2772494048",
   "metadata": {},
   "source": [
    "We created a model specifiction "
   ]
  },
  {
   "cell_type": "code",
   "execution_count": 8,
   "id": "b047fc0b-d704-4dba-9e2d-ac7000e1c62e",
   "metadata": {},
   "outputs": [
    {
     "data": {
      "text/plain": [
       "K-Nearest Neighbor Model Specification (classification)\n",
       "\n",
       "Main Arguments:\n",
       "  neighbors = tune()\n",
       "  weight_func = rectangular\n",
       "\n",
       "Computational engine: kknn \n"
      ]
     },
     "metadata": {},
     "output_type": "display_data"
    }
   ],
   "source": [
    "#Selecting K\n",
    "knn_tune <- nearest_neighbor(weight_func = \"rectangular\", neighbors = tune()) |>\n",
    "                set_engine(\"kknn\") |>\n",
    "                set_mode(\"classification\")\n",
    "knn_tune"
   ]
  },
  {
   "cell_type": "code",
   "execution_count": null,
   "id": "a280f983-b384-4cf3-95f6-1c4401469ccf",
   "metadata": {},
   "outputs": [],
   "source": [
    "#5 fold cross-validation\n",
    "income_vfold <- vfold_cv(consensus_training, v = 10, strata = income)"
   ]
  },
  {
   "cell_type": "code",
   "execution_count": null,
   "id": "0b840fbe-f247-4228-a699-ba59b335fc5b",
   "metadata": {},
   "outputs": [],
   "source": [
    "#Making Workflow\n",
    "k_vals <- tibble(neighbors = seq(from = 1, to = 100, by = 5))\n",
    "\n",
    "knn_results <- workflow() |>\n",
    "       add_recipe(income_recipe) |>\n",
    "       add_model(knn_tune) |>\n",
    "       tune_grid(resamples = income_vfold, grid = k_vals) |>\n",
    "       collect_metrics()\n",
    "knn_results"
   ]
  },
  {
   "cell_type": "code",
   "execution_count": null,
   "id": "bfcd7ca2-a850-4d5c-8682-7b28f9e64d5a",
   "metadata": {},
   "outputs": [],
   "source": [
    "accuracies <- knn_results |> \n",
    "       filter(.metric == \"accuracy\")\n",
    "\n",
    "accuracy_versus_k <- ggplot(accuracies, aes(x = neighbors, y = mean))+\n",
    "       geom_point() +\n",
    "       geom_line() +\n",
    "       labs(x = \"Neighbors\", y = \"Accuracy Estimate\")\n",
    "       #scale_x_continuous(breaks = seq(0, 15, by = 1))  # adjusting the x-axis\n",
    "       #scale_y_continuous(limits = c(0.4, 1.0)) # adjusting the y-axis\n",
    "accuracy_versus_k"
   ]
  },
  {
   "cell_type": "code",
   "execution_count": null,
   "id": "6d6e3bf5-7c5c-44dc-a7a2-01585e7c1aa8",
   "metadata": {},
   "outputs": [],
   "source": []
  }
 ],
 "metadata": {
  "kernelspec": {
   "display_name": "R",
   "language": "R",
   "name": "ir"
  },
  "language_info": {
   "codemirror_mode": "r",
   "file_extension": ".r",
   "mimetype": "text/x-r-source",
   "name": "R",
   "pygments_lexer": "r",
   "version": "4.1.3"
  }
 },
 "nbformat": 4,
 "nbformat_minor": 5
}
